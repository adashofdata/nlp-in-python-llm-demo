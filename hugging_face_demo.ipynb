{
 "cells": [
  {
   "cell_type": "markdown",
   "id": "af4a1343-4ef1-42b3-a6a7-dbdfe8e58c1f",
   "metadata": {},
   "source": [
    "## 0. Data Prep"
   ]
  },
  {
   "cell_type": "markdown",
   "id": "e7884e9e-db2f-4f70-944a-f228f84945c5",
   "metadata": {},
   "source": [
    "#### a. Read in the movies data set"
   ]
  },
  {
   "cell_type": "code",
   "execution_count": 1,
   "id": "7d180ec6-036c-4758-993f-052df8978175",
   "metadata": {},
   "outputs": [
    {
     "data": {
      "text/html": [
       "<div>\n",
       "<style scoped>\n",
       "    .dataframe tbody tr th:only-of-type {\n",
       "        vertical-align: middle;\n",
       "    }\n",
       "\n",
       "    .dataframe tbody tr th {\n",
       "        vertical-align: top;\n",
       "    }\n",
       "\n",
       "    .dataframe thead th {\n",
       "        text-align: right;\n",
       "    }\n",
       "</style>\n",
       "<table border=\"1\" class=\"dataframe\">\n",
       "  <thead>\n",
       "    <tr style=\"text-align: right;\">\n",
       "      <th></th>\n",
       "      <th>movie_title</th>\n",
       "      <th>movie_info</th>\n",
       "      <th>movie_rating</th>\n",
       "    </tr>\n",
       "  </thead>\n",
       "  <tbody>\n",
       "    <tr>\n",
       "      <th>0</th>\n",
       "      <td>A Dog's Journey</td>\n",
       "      <td>Bailey (voiced again by Josh Gad) is living the good life on the Michigan farm of his \"boy,\" Ethan (Dennis Quaid) and Ethan's wife Hannah (Marg Helgenberger). He even has a new playmate: Ethan and Hannah's baby granddaughter, CJ. The problem is that CJ's mom, Gloria (Betty Gilpin), decides to take CJ away. As Bailey's soul prepares to leave this life for a new one, he makes a promise to Ethan to find CJ and protect her at any cost. Thus begins Bailey's adventure through multiple lives filled with love, friendship and devotion as he, CJ (Kathryn Prescott), and CJ's best friend Trent (Henry Lau) experience joy and heartbreak, music and laughter, and few really good belly rubs.</td>\n",
       "      <td>PG</td>\n",
       "    </tr>\n",
       "    <tr>\n",
       "      <th>1</th>\n",
       "      <td>A Dog's Way Home</td>\n",
       "      <td>Separated from her owner, a dog sets off on an 400-mile journey to get back to the safety and security of the place she calls home. Along the way, she meets a series of new friends and manages to bring a little bit of comfort and joy to their lives.</td>\n",
       "      <td>PG</td>\n",
       "    </tr>\n",
       "    <tr>\n",
       "      <th>2</th>\n",
       "      <td>A Tuba to Cuba</td>\n",
       "      <td>The leader of New Orleans' famed Preservation Hall Jazz Band seeks to fulfill his late father's dream of retracing their musical roots to the shores of Cuba in search of the indigenous music that gave birth to New Orleans jazz. A TUBA TO CUBA celebrates the triumph of the human spirit expressed through the universal language of music and challenges us to resolve to build bridges, not walls.</td>\n",
       "      <td>NR</td>\n",
       "    </tr>\n",
       "  </tbody>\n",
       "</table>\n",
       "</div>"
      ],
      "text/plain": [
       "        movie_title  \\\n",
       "0   A Dog's Journey   \n",
       "1  A Dog's Way Home   \n",
       "2    A Tuba to Cuba   \n",
       "\n",
       "                                                                                                                                                                                                                                                                                                                                                                                                                                                                                                                                                                                                                                                                                                    movie_info  \\\n",
       "0  Bailey (voiced again by Josh Gad) is living the good life on the Michigan farm of his \"boy,\" Ethan (Dennis Quaid) and Ethan's wife Hannah (Marg Helgenberger). He even has a new playmate: Ethan and Hannah's baby granddaughter, CJ. The problem is that CJ's mom, Gloria (Betty Gilpin), decides to take CJ away. As Bailey's soul prepares to leave this life for a new one, he makes a promise to Ethan to find CJ and protect her at any cost. Thus begins Bailey's adventure through multiple lives filled with love, friendship and devotion as he, CJ (Kathryn Prescott), and CJ's best friend Trent (Henry Lau) experience joy and heartbreak, music and laughter, and few really good belly rubs.   \n",
       "1                                                                                                                                                                                                                                                                                                                                                                                                                                                    Separated from her owner, a dog sets off on an 400-mile journey to get back to the safety and security of the place she calls home. Along the way, she meets a series of new friends and manages to bring a little bit of comfort and joy to their lives.   \n",
       "2                                                                                                                                                                                                                                                                                                    The leader of New Orleans' famed Preservation Hall Jazz Band seeks to fulfill his late father's dream of retracing their musical roots to the shores of Cuba in search of the indigenous music that gave birth to New Orleans jazz. A TUBA TO CUBA celebrates the triumph of the human spirit expressed through the universal language of music and challenges us to resolve to build bridges, not walls.   \n",
       "\n",
       "  movie_rating  \n",
       "0           PG  \n",
       "1           PG  \n",
       "2           NR  "
      ]
     },
     "execution_count": 1,
     "metadata": {},
     "output_type": "execute_result"
    }
   ],
   "source": [
    "import pandas as pd\n",
    "\n",
    "# modify the column width\n",
    "pd.set_option('display.max_colwidth', None)\n",
    "\n",
    "# look at a subset of the movies\n",
    "movies = pd.read_csv('movies.csv')\n",
    "movies.head(3)"
   ]
  },
  {
   "cell_type": "markdown",
   "id": "784ad716-f446-42b5-b07d-a656b9c713f4",
   "metadata": {},
   "source": [
    "#### b. Look at a few movies"
   ]
  },
  {
   "cell_type": "code",
   "execution_count": 2,
   "id": "79cbbc50-3f48-4b2e-b6a8-c1ae22602cc2",
   "metadata": {},
   "outputs": [
    {
     "data": {
      "text/plain": [
       "movie_title                                                                                                                                                                                                                                              A Dog's Way Home\n",
       "movie_info      Separated from her owner, a dog sets off on an 400-mile journey to get back to the safety and security of the place she calls home. Along the way, she meets a series of new friends and manages to bring a little bit of comfort and joy to their lives.\n",
       "movie_rating                                                                                                                                                                                                                                                           PG\n",
       "Name: 1, dtype: object"
      ]
     },
     "execution_count": 2,
     "metadata": {},
     "output_type": "execute_result"
    }
   ],
   "source": [
    "# view one movie\n",
    "movies.loc[1]"
   ]
  },
  {
   "cell_type": "code",
   "execution_count": 3,
   "id": "bffd1f65-8ef1-4e44-b1a9-296bd5d75f32",
   "metadata": {},
   "outputs": [
    {
     "data": {
      "text/plain": [
       "'Separated from her owner, a dog sets off on an 400-mile journey to get back to the safety and security of the place she calls home. Along the way, she meets a series of new friends and manages to bring a little bit of comfort and joy to their lives.'"
      ]
     },
     "execution_count": 3,
     "metadata": {},
     "output_type": "execute_result"
    }
   ],
   "source": [
    "# extract the text portion\n",
    "movie1 = movies.loc[1, 'movie_info']\n",
    "movie1"
   ]
  },
  {
   "cell_type": "code",
   "execution_count": 4,
   "id": "324f9825-732f-4fbd-810b-92381df7877a",
   "metadata": {},
   "outputs": [
    {
     "data": {
      "text/html": [
       "<div>\n",
       "<style scoped>\n",
       "    .dataframe tbody tr th:only-of-type {\n",
       "        vertical-align: middle;\n",
       "    }\n",
       "\n",
       "    .dataframe tbody tr th {\n",
       "        vertical-align: top;\n",
       "    }\n",
       "\n",
       "    .dataframe thead th {\n",
       "        text-align: right;\n",
       "    }\n",
       "</style>\n",
       "<table border=\"1\" class=\"dataframe\">\n",
       "  <thead>\n",
       "    <tr style=\"text-align: right;\">\n",
       "      <th></th>\n",
       "      <th>movie_title</th>\n",
       "      <th>movie_info</th>\n",
       "      <th>movie_rating</th>\n",
       "    </tr>\n",
       "  </thead>\n",
       "  <tbody>\n",
       "    <tr>\n",
       "      <th>165</th>\n",
       "      <td>Yesterday</td>\n",
       "      <td>Jack Malik (Himesh Patel, BBC's Eastenders) is a struggling singer-songwriter in a tiny English seaside town whose dreams of fame are rapidly fading, despite the fierce devotion and support of his childhood best friend, Ellie (Lily James, Mamma Mia! Here We Go Again). Then, after a freak bus accident during a mysterious global blackout, Jack wakes up to discover that The Beatles have never existed... and he finds himself with a very complicated problem, indeed.</td>\n",
       "      <td>PG-13</td>\n",
       "    </tr>\n",
       "  </tbody>\n",
       "</table>\n",
       "</div>"
      ],
      "text/plain": [
       "    movie_title  \\\n",
       "165   Yesterday   \n",
       "\n",
       "                                                                                                                                                                                                                                                                                                                                                                                                                                                                            movie_info  \\\n",
       "165  Jack Malik (Himesh Patel, BBC's Eastenders) is a struggling singer-songwriter in a tiny English seaside town whose dreams of fame are rapidly fading, despite the fierce devotion and support of his childhood best friend, Ellie (Lily James, Mamma Mia! Here We Go Again). Then, after a freak bus accident during a mysterious global blackout, Jack wakes up to discover that The Beatles have never existed... and he finds himself with a very complicated problem, indeed.   \n",
       "\n",
       "    movie_rating  \n",
       "165        PG-13  "
      ]
     },
     "execution_count": 4,
     "metadata": {},
     "output_type": "execute_result"
    }
   ],
   "source": [
    "# view another movie\n",
    "movies.tail(1)"
   ]
  },
  {
   "cell_type": "code",
   "execution_count": 5,
   "id": "bc990185-7282-4ea3-80ba-a1d5caeb2b98",
   "metadata": {
    "scrolled": true
   },
   "outputs": [
    {
     "data": {
      "text/plain": [
       "\"Jack Malik (Himesh Patel, BBC's Eastenders) is a struggling singer-songwriter in a tiny English seaside town whose dreams of fame are rapidly fading, despite the fierce devotion and support of his childhood best friend, Ellie (Lily James, Mamma Mia! Here We Go Again). Then, after a freak bus accident during a mysterious global blackout, Jack wakes up to discover that The Beatles have never existed... and he finds himself with a very complicated problem, indeed.\""
      ]
     },
     "execution_count": 5,
     "metadata": {},
     "output_type": "execute_result"
    }
   ],
   "source": [
    "# extract the text portion\n",
    "movie2 = movies.loc[165, 'movie_info']\n",
    "movie2"
   ]
  },
  {
   "cell_type": "markdown",
   "id": "9e84e392-c856-4878-b5ac-53a972b09eef",
   "metadata": {},
   "source": [
    "## 1. Sentiment Analysis"
   ]
  },
  {
   "cell_type": "markdown",
   "id": "0bdd3914-1a68-4b40-9dfe-e74aeb9cf771",
   "metadata": {},
   "source": [
    "**Question**: How positive or negative is this movie description?"
   ]
  },
  {
   "cell_type": "markdown",
   "id": "06daa3a3-1b22-4eac-a6ed-89d75dece7b1",
   "metadata": {},
   "source": [
    "#### a. Use the transformers library for sentiment analysis"
   ]
  },
  {
   "cell_type": "code",
   "execution_count": 6,
   "id": "5a4f6429-6f95-493c-87e4-1f97696e8fa3",
   "metadata": {},
   "outputs": [
    {
     "name": "stderr",
     "output_type": "stream",
     "text": [
      "No model was supplied, defaulted to distilbert/distilbert-base-uncased-finetuned-sst-2-english and revision 714eb0f (https://huggingface.co/distilbert/distilbert-base-uncased-finetuned-sst-2-english).\n",
      "Using a pipeline without specifying a model name and revision in production is not recommended.\n",
      "Device set to use mps:0\n"
     ]
    }
   ],
   "source": [
    "from transformers import pipeline\n",
    "\n",
    "sentiment_analyzer = pipeline(\"sentiment-analysis\")"
   ]
  },
  {
   "cell_type": "code",
   "execution_count": 7,
   "id": "c889805c-e6b0-46a1-b45e-3c9809d33716",
   "metadata": {},
   "outputs": [],
   "source": [
    "# stop showing verbose outputs, only error messages\n",
    "from transformers import logging\n",
    "logging.set_verbosity_error()"
   ]
  },
  {
   "cell_type": "markdown",
   "id": "87427040-1ee7-497a-898c-bb72d0ea71e8",
   "metadata": {},
   "source": [
    "#### b. Apply sentiment analysis using DistilBERT"
   ]
  },
  {
   "cell_type": "code",
   "execution_count": 8,
   "id": "8b26bc1b-5b10-4973-b911-7014ca3a35d5",
   "metadata": {},
   "outputs": [
    {
     "data": {
      "text/plain": [
       "'Separated from her owner, a dog sets off on an 400-mile journey to get back to the safety and security of the place she calls home. Along the way, she meets a series of new friends and manages to bring a little bit of comfort and joy to their lives.'"
      ]
     },
     "execution_count": 8,
     "metadata": {},
     "output_type": "execute_result"
    }
   ],
   "source": [
    "# a dog's way home\n",
    "movie1"
   ]
  },
  {
   "cell_type": "code",
   "execution_count": 9,
   "id": "1397de81-e844-44e7-8369-a7b957127d46",
   "metadata": {},
   "outputs": [
    {
     "data": {
      "text/plain": [
       "[{'label': 'POSITIVE', 'score': 0.9995336532592773}]"
      ]
     },
     "execution_count": 9,
     "metadata": {},
     "output_type": "execute_result"
    }
   ],
   "source": [
    "# check the sentiment score\n",
    "sentiment_analyzer(movie1)"
   ]
  },
  {
   "cell_type": "code",
   "execution_count": 10,
   "id": "422a67e3-2bba-4945-bc93-31a2fae12361",
   "metadata": {},
   "outputs": [
    {
     "data": {
      "text/plain": [
       "\"Jack Malik (Himesh Patel, BBC's Eastenders) is a struggling singer-songwriter in a tiny English seaside town whose dreams of fame are rapidly fading, despite the fierce devotion and support of his childhood best friend, Ellie (Lily James, Mamma Mia! Here We Go Again). Then, after a freak bus accident during a mysterious global blackout, Jack wakes up to discover that The Beatles have never existed... and he finds himself with a very complicated problem, indeed.\""
      ]
     },
     "execution_count": 10,
     "metadata": {},
     "output_type": "execute_result"
    }
   ],
   "source": [
    "# yesterday\n",
    "movie2"
   ]
  },
  {
   "cell_type": "code",
   "execution_count": 11,
   "id": "9b2eca6e-26c2-4101-981d-35abb195e80a",
   "metadata": {},
   "outputs": [
    {
     "data": {
      "text/plain": [
       "[{'label': 'NEGATIVE', 'score': 0.9984468817710876}]"
      ]
     },
     "execution_count": 11,
     "metadata": {},
     "output_type": "execute_result"
    }
   ],
   "source": [
    "# check the sentiment score\n",
    "sentiment_analyzer(movie2)"
   ]
  },
  {
   "cell_type": "markdown",
   "id": "c689a0bd-fdae-49aa-aaa5-45ce3ee2fc22",
   "metadata": {},
   "source": [
    "## 2. Zero-Shot Classification"
   ]
  },
  {
   "cell_type": "markdown",
   "id": "e3e73f75-583b-4d83-bed7-cef74e6b4cdd",
   "metadata": {},
   "source": [
    "**Question**: Which of the following genres (comedy, action, drama, horror, romance) best describes this movie description?"
   ]
  },
  {
   "cell_type": "markdown",
   "id": "a3b8196d-e6d8-4ba9-9e92-015e9fa4225b",
   "metadata": {},
   "source": [
    "#### a. Find a model on Hugging Face's Model Hub"
   ]
  },
  {
   "cell_type": "markdown",
   "id": "be78e13e-7337-4459-96c8-65a83acc6d87",
   "metadata": {},
   "source": [
    "1. Go to huggingface.co\n",
    "2. Click on Models >> Tasks >> Zero-Shot Classification\n",
    "3. Sort by popularity"
   ]
  },
  {
   "attachments": {},
   "cell_type": "markdown",
   "id": "5cb853e8-1307-4f83-b22c-cc102acc109d",
   "metadata": {},
   "source": [
    "#### b. Bring in the BART model for zero-shot classification"
   ]
  },
  {
   "cell_type": "code",
   "execution_count": 12,
   "id": "ec8b88b0-4ddc-4be8-b43b-3188176ea462",
   "metadata": {},
   "outputs": [],
   "source": [
    "classifier = pipeline(\"zero-shot-classification\", # task specified\n",
    "                      model=\"facebook/bart-large-mnli\") # model picked from model hub"
   ]
  },
  {
   "cell_type": "markdown",
   "id": "df2fdb38-4012-4fb5-97e4-cb52fef8b7c7",
   "metadata": {},
   "source": [
    "#### c. Apply zero-shot classification using BART"
   ]
  },
  {
   "cell_type": "code",
   "execution_count": 13,
   "id": "a0e1f8c1-d883-43fa-b374-eeadad98874d",
   "metadata": {},
   "outputs": [
    {
     "data": {
      "text/plain": [
       "{'sequence': 'Separated from her owner, a dog sets off on an 400-mile journey to get back to the safety and security of the place she calls home. Along the way, she meets a series of new friends and manages to bring a little bit of comfort and joy to their lives.',\n",
       " 'labels': ['action', 'drama', 'comedy', 'romance', 'horror'],\n",
       " 'scores': [0.8686432838439941,\n",
       "  0.09988968074321747,\n",
       "  0.014216333627700806,\n",
       "  0.011292763985693455,\n",
       "  0.005957926623523235]}"
      ]
     },
     "execution_count": 13,
     "metadata": {},
     "output_type": "execute_result"
    }
   ],
   "source": [
    "classifier(movie1, candidate_labels = ['comedy', 'action', 'drama', 'horror', 'romance'])"
   ]
  },
  {
   "cell_type": "code",
   "execution_count": 14,
   "id": "c51b65b5-84bb-4797-a3bc-50bdd68fc0d9",
   "metadata": {},
   "outputs": [
    {
     "data": {
      "text/plain": [
       "{'sequence': \"Jack Malik (Himesh Patel, BBC's Eastenders) is a struggling singer-songwriter in a tiny English seaside town whose dreams of fame are rapidly fading, despite the fierce devotion and support of his childhood best friend, Ellie (Lily James, Mamma Mia! Here We Go Again). Then, after a freak bus accident during a mysterious global blackout, Jack wakes up to discover that The Beatles have never existed... and he finds himself with a very complicated problem, indeed.\",\n",
       " 'labels': ['drama', 'action', 'comedy', 'horror', 'romance'],\n",
       " 'scores': [0.4112357497215271,\n",
       "  0.3190882205963135,\n",
       "  0.12281811982393265,\n",
       "  0.10751312971115112,\n",
       "  0.03934483230113983]}"
      ]
     },
     "execution_count": 14,
     "metadata": {},
     "output_type": "execute_result"
    }
   ],
   "source": [
    "classifier(movie2, candidate_labels = ['comedy', 'action', 'drama', 'horror', 'romance'])"
   ]
  },
  {
   "cell_type": "markdown",
   "id": "91c346fd-6676-4a45-854f-7aef5762126f",
   "metadata": {},
   "source": [
    "#### d. Apply zero-shot classification using DeBERTa"
   ]
  },
  {
   "cell_type": "code",
   "execution_count": 15,
   "id": "88e9b7d8-fd8e-4492-af2f-d8eacdbfa931",
   "metadata": {},
   "outputs": [],
   "source": [
    "classifier2 = pipeline(\"zero-shot-classification\", # task specified\n",
    "                       model=\"sileod/deberta-v3-base-tasksource-nli\") # another model picked from model hub"
   ]
  },
  {
   "cell_type": "code",
   "execution_count": 16,
   "id": "71f57656-7275-4448-9cfc-701802412ec0",
   "metadata": {},
   "outputs": [
    {
     "data": {
      "text/plain": [
       "{'sequence': 'Separated from her owner, a dog sets off on an 400-mile journey to get back to the safety and security of the place she calls home. Along the way, she meets a series of new friends and manages to bring a little bit of comfort and joy to their lives.',\n",
       " 'labels': ['action', 'drama', 'comedy', 'romance', 'horror'],\n",
       " 'scores': [0.5859643220901489,\n",
       "  0.22670985758304596,\n",
       "  0.08723773062229156,\n",
       "  0.0763465017080307,\n",
       "  0.023741617798805237]}"
      ]
     },
     "execution_count": 16,
     "metadata": {},
     "output_type": "execute_result"
    }
   ],
   "source": [
    "classifier2(movie1, candidate_labels = ['comedy', 'action', 'drama', 'horror', 'romance'])"
   ]
  },
  {
   "cell_type": "code",
   "execution_count": 17,
   "id": "589a4dae-cd63-4a45-ad07-68ef54b80953",
   "metadata": {},
   "outputs": [
    {
     "data": {
      "text/plain": [
       "{'sequence': \"Jack Malik (Himesh Patel, BBC's Eastenders) is a struggling singer-songwriter in a tiny English seaside town whose dreams of fame are rapidly fading, despite the fierce devotion and support of his childhood best friend, Ellie (Lily James, Mamma Mia! Here We Go Again). Then, after a freak bus accident during a mysterious global blackout, Jack wakes up to discover that The Beatles have never existed... and he finds himself with a very complicated problem, indeed.\",\n",
       " 'labels': ['drama', 'action', 'romance', 'horror', 'comedy'],\n",
       " 'scores': [0.5804199576377869,\n",
       "  0.20670437812805176,\n",
       "  0.10009843111038208,\n",
       "  0.0761198177933693,\n",
       "  0.036657366901636124]}"
      ]
     },
     "execution_count": 17,
     "metadata": {},
     "output_type": "execute_result"
    }
   ],
   "source": [
    "classifier2(movie2, candidate_labels = ['comedy', 'action', 'drama', 'horror', 'romance'])"
   ]
  },
  {
   "cell_type": "markdown",
   "id": "6cbc76e1-9572-480b-8d1f-7fd996b8d7c7",
   "metadata": {},
   "source": [
    "## 3. Document Similarity"
   ]
  },
  {
   "cell_type": "markdown",
   "id": "3788e7a3-e159-41df-8dc2-d34b5f1b91f5",
   "metadata": {},
   "source": [
    "**Question**: How similar is this movie description to other movie descriptions?"
   ]
  },
  {
   "cell_type": "markdown",
   "id": "3c529763-65ea-437d-a805-7569f2691b91",
   "metadata": {},
   "source": [
    "#### a. Create the pipeline and similar movies function"
   ]
  },
  {
   "cell_type": "code",
   "execution_count": 18,
   "id": "5580bbdb-fea3-46bb-b054-c6440539253a",
   "metadata": {},
   "outputs": [],
   "source": [
    "# step 1: specify our feature extraction model\n",
    "feature_extractor = pipeline('feature-extraction',\n",
    "                     model='sentence-transformers/all-MiniLM-L6-v2')"
   ]
  },
  {
   "cell_type": "code",
   "execution_count": 19,
   "id": "f7096f0b-0677-4e30-bec6-a5785fbbbd24",
   "metadata": {},
   "outputs": [],
   "source": [
    "# step 2: extract the embeddings\n",
    "import numpy as np\n",
    "\n",
    "embeddings = movies.movie_info.apply(lambda row: feature_extractor(row)[0][0])\n",
    "embeddings_movies = np.vstack(embeddings)"
   ]
  },
  {
   "cell_type": "code",
   "execution_count": 20,
   "id": "71090c8a-29d6-4870-a2b8-6b171bb6a54b",
   "metadata": {},
   "outputs": [],
   "source": [
    "# step 3: create a get_similar_movies function with the inputs: embeddings, movie_index, movie_details, top_n\n",
    "from sklearn.metrics.pairwise import cosine_similarity\n",
    "\n",
    "def get_similar_movies(movie_index, top_n=3):\n",
    "\n",
    "    # create movie embedding for movie_index\n",
    "    m_embedding = np.array(embeddings_movies[movie_index]).reshape(1, -1)\n",
    "    \n",
    "    # calculate similarity scores\n",
    "    similarity_scores = cosine_similarity(m_embedding, embeddings_movies)\n",
    "    similarity_scores_series = pd.Series(similarity_scores.flatten(), name='similarity_score')\n",
    "    \n",
    "    # bring in movie info\n",
    "    movies_similarity_scores_df = pd.concat([movies[['movie_title', 'movie_info', 'movie_rating']], similarity_scores_series], axis=1)\n",
    "\n",
    "    # display movie recs\n",
    "    return movies_similarity_scores_df.sort_values('similarity_score', ascending=False).iloc[0:top_n+1]"
   ]
  },
  {
   "cell_type": "markdown",
   "id": "e65c53dd-86fa-4d3e-af5f-73441c84b503",
   "metadata": {},
   "source": [
    "#### b. Find similar movies using MiniLM"
   ]
  },
  {
   "cell_type": "code",
   "execution_count": 21,
   "id": "25617a89-a052-48c8-9afd-38c5bb168936",
   "metadata": {},
   "outputs": [
    {
     "data": {
      "text/html": [
       "<div>\n",
       "<style scoped>\n",
       "    .dataframe tbody tr th:only-of-type {\n",
       "        vertical-align: middle;\n",
       "    }\n",
       "\n",
       "    .dataframe tbody tr th {\n",
       "        vertical-align: top;\n",
       "    }\n",
       "\n",
       "    .dataframe thead th {\n",
       "        text-align: right;\n",
       "    }\n",
       "</style>\n",
       "<table border=\"1\" class=\"dataframe\">\n",
       "  <thead>\n",
       "    <tr style=\"text-align: right;\">\n",
       "      <th></th>\n",
       "      <th>movie_title</th>\n",
       "      <th>movie_info</th>\n",
       "      <th>movie_rating</th>\n",
       "      <th>similarity_score</th>\n",
       "    </tr>\n",
       "  </thead>\n",
       "  <tbody>\n",
       "    <tr>\n",
       "      <th>1</th>\n",
       "      <td>A Dog's Way Home</td>\n",
       "      <td>Separated from her owner, a dog sets off on an 400-mile journey to get back to the safety and security of the place she calls home. Along the way, she meets a series of new friends and manages to bring a little bit of comfort and joy to their lives.</td>\n",
       "      <td>PG</td>\n",
       "      <td>1.000000</td>\n",
       "    </tr>\n",
       "    <tr>\n",
       "      <th>87</th>\n",
       "      <td>Pet Sematary</td>\n",
       "      <td>Based on the seminal horror novel by Stephen King, Pet Sematary follows Dr. Louis Creed (Jason Clarke), who, after relocating with his wife Rachel (Amy Seimetz) and their two young children from Boston to rural Maine, discovers a mysterious burial ground hidden deep in the woods near the family's new home. When tragedy strikes, Louis turns to his unusual neighbor, Jud Crandall (John Lithgow), setting off a perilous chain reaction that unleashes an unfathomable evil with horrific consequences.</td>\n",
       "      <td>R</td>\n",
       "      <td>0.828111</td>\n",
       "    </tr>\n",
       "    <tr>\n",
       "      <th>81</th>\n",
       "      <td>Missing Link</td>\n",
       "      <td>This April, meet Mr. Link (Galifianakis): 8 feet tall, 630 lbs, and covered in fur, but don't let his appearance fool you... he is funny, sweet, and adorably literal, making him the world's most lovable legend at the heart of Missing Link, the globe-trotting family adventure from LAIKA. Tired of living a solitary life in the Pacific Northwest, Mr. Link recruits fearless explorer Sir Lionel Frost (Jackman) to guide him on a journey to find his long-lost relatives in the fabled valley of Shangri-La. Along with adventurer Adelina Fortnight (Saldana), our fearless trio of explorers encounter more than their fair share of peril as they travel to the far reaches of the world to help their new friend. Through it all, the three learn that sometimes you can find a family in the places you least expect.</td>\n",
       "      <td>PG</td>\n",
       "      <td>0.821332</td>\n",
       "    </tr>\n",
       "    <tr>\n",
       "      <th>140</th>\n",
       "      <td>The Secret Life of Pets 2</td>\n",
       "      <td>THE SECRET LIFE OF PETS 2 will follow summer 2016's blockbuster about the lives our pets lead after we leave for work or school each day. Illumination founder and CEO Chris Meledandri and his longtime collaborator Janet Healy will produce the sequel to the comedy that had the best opening ever for an original film, animated or otherwise. THE SECRET LIFE OF PETS 2 will see the return of writer Brian Lynch (Minions) and once again be directed by Chris Renaud (Despicable Me series, Dr. Seuss' The Lorax).</td>\n",
       "      <td>PG</td>\n",
       "      <td>0.803324</td>\n",
       "    </tr>\n",
       "  </tbody>\n",
       "</table>\n",
       "</div>"
      ],
      "text/plain": [
       "                   movie_title  \\\n",
       "1             A Dog's Way Home   \n",
       "87                Pet Sematary   \n",
       "81                Missing Link   \n",
       "140  The Secret Life of Pets 2   \n",
       "\n",
       "                                                                                                                                                                                                                                                                                                                                                                                                                                                                                                                                                                                                                                                                                                                                                                                                                               movie_info  \\\n",
       "1                                                                                                                                                                                                                                                                                                                                                                                                                                                                                                                                                                               Separated from her owner, a dog sets off on an 400-mile journey to get back to the safety and security of the place she calls home. Along the way, she meets a series of new friends and manages to bring a little bit of comfort and joy to their lives.   \n",
       "87                                                                                                                                                                                                                                                                                                                      Based on the seminal horror novel by Stephen King, Pet Sematary follows Dr. Louis Creed (Jason Clarke), who, after relocating with his wife Rachel (Amy Seimetz) and their two young children from Boston to rural Maine, discovers a mysterious burial ground hidden deep in the woods near the family's new home. When tragedy strikes, Louis turns to his unusual neighbor, Jud Crandall (John Lithgow), setting off a perilous chain reaction that unleashes an unfathomable evil with horrific consequences.   \n",
       "81   This April, meet Mr. Link (Galifianakis): 8 feet tall, 630 lbs, and covered in fur, but don't let his appearance fool you... he is funny, sweet, and adorably literal, making him the world's most lovable legend at the heart of Missing Link, the globe-trotting family adventure from LAIKA. Tired of living a solitary life in the Pacific Northwest, Mr. Link recruits fearless explorer Sir Lionel Frost (Jackman) to guide him on a journey to find his long-lost relatives in the fabled valley of Shangri-La. Along with adventurer Adelina Fortnight (Saldana), our fearless trio of explorers encounter more than their fair share of peril as they travel to the far reaches of the world to help their new friend. Through it all, the three learn that sometimes you can find a family in the places you least expect.   \n",
       "140                                                                                                                                                                                                                                                                                                            THE SECRET LIFE OF PETS 2 will follow summer 2016's blockbuster about the lives our pets lead after we leave for work or school each day. Illumination founder and CEO Chris Meledandri and his longtime collaborator Janet Healy will produce the sequel to the comedy that had the best opening ever for an original film, animated or otherwise. THE SECRET LIFE OF PETS 2 will see the return of writer Brian Lynch (Minions) and once again be directed by Chris Renaud (Despicable Me series, Dr. Seuss' The Lorax).   \n",
       "\n",
       "    movie_rating  similarity_score  \n",
       "1             PG          1.000000  \n",
       "87             R          0.828111  \n",
       "81            PG          0.821332  \n",
       "140           PG          0.803324  "
      ]
     },
     "execution_count": 21,
     "metadata": {},
     "output_type": "execute_result"
    }
   ],
   "source": [
    "# find movies similar to A Dog's Way Home\n",
    "get_similar_movies(1)"
   ]
  },
  {
   "cell_type": "code",
   "execution_count": 22,
   "id": "e79b36ea-ca02-4189-a2b8-247e4a2903d2",
   "metadata": {},
   "outputs": [
    {
     "data": {
      "text/html": [
       "<div>\n",
       "<style scoped>\n",
       "    .dataframe tbody tr th:only-of-type {\n",
       "        vertical-align: middle;\n",
       "    }\n",
       "\n",
       "    .dataframe tbody tr th {\n",
       "        vertical-align: top;\n",
       "    }\n",
       "\n",
       "    .dataframe thead th {\n",
       "        text-align: right;\n",
       "    }\n",
       "</style>\n",
       "<table border=\"1\" class=\"dataframe\">\n",
       "  <thead>\n",
       "    <tr style=\"text-align: right;\">\n",
       "      <th></th>\n",
       "      <th>movie_title</th>\n",
       "      <th>movie_info</th>\n",
       "      <th>movie_rating</th>\n",
       "      <th>similarity_score</th>\n",
       "    </tr>\n",
       "  </thead>\n",
       "  <tbody>\n",
       "    <tr>\n",
       "      <th>165</th>\n",
       "      <td>Yesterday</td>\n",
       "      <td>Jack Malik (Himesh Patel, BBC's Eastenders) is a struggling singer-songwriter in a tiny English seaside town whose dreams of fame are rapidly fading, despite the fierce devotion and support of his childhood best friend, Ellie (Lily James, Mamma Mia! Here We Go Again). Then, after a freak bus accident during a mysterious global blackout, Jack wakes up to discover that The Beatles have never existed... and he finds himself with a very complicated problem, indeed.</td>\n",
       "      <td>PG-13</td>\n",
       "      <td>1.000000</td>\n",
       "    </tr>\n",
       "    <tr>\n",
       "      <th>32</th>\n",
       "      <td>Dolemite Is My Name</td>\n",
       "      <td>Stung by a string of showbiz failures, floundering comedian Rudy Ray Moore (Academy Award nominee Eddie Murphy) has an epiphany that turns him into a word-of-mouth sensation: step onstage as someone else. Borrowing from the street mythology of 1970s Los Angeles, Moore assumes the persona of Dolemite, a pimp with a cane and an arsenal of obscene fables. However, his ambitions exceed selling bootleg records deemed too racy for mainstream radio stations to play. Moore convinces a social justice-minded dramatist (Keegan-Michael Key) to write his alter ego a film, incorporating kung fu, car chases, and Lady Reed (Da'Vine Joy Randolph), an ex-backup singer who becomes his unexpected comedic foil. Despite clashing with his pretentious director, D'Urville Martin (Wesley Snipes), and countless production hurdles at their studio in the dilapidated Dunbar Hotel, Moore's Dolemite becomes a runaway box office smash and a defining movie of the Blaxploitation era.</td>\n",
       "      <td>R</td>\n",
       "      <td>0.825942</td>\n",
       "    </tr>\n",
       "    <tr>\n",
       "      <th>81</th>\n",
       "      <td>Missing Link</td>\n",
       "      <td>This April, meet Mr. Link (Galifianakis): 8 feet tall, 630 lbs, and covered in fur, but don't let his appearance fool you... he is funny, sweet, and adorably literal, making him the world's most lovable legend at the heart of Missing Link, the globe-trotting family adventure from LAIKA. Tired of living a solitary life in the Pacific Northwest, Mr. Link recruits fearless explorer Sir Lionel Frost (Jackman) to guide him on a journey to find his long-lost relatives in the fabled valley of Shangri-La. Along with adventurer Adelina Fortnight (Saldana), our fearless trio of explorers encounter more than their fair share of peril as they travel to the far reaches of the world to help their new friend. Through it all, the three learn that sometimes you can find a family in the places you least expect.</td>\n",
       "      <td>PG</td>\n",
       "      <td>0.819001</td>\n",
       "    </tr>\n",
       "    <tr>\n",
       "      <th>86</th>\n",
       "      <td>Pavarotti</td>\n",
       "      <td>From the filmmaking team behind the highly-acclaimed documentary The Beatles: Eight Days A Week - The Touring Years, PAVAROTTI is a riveting film that lifts the curtain on the icon who brought opera to the people. Academy Award (R) winner Ron Howard puts audiences front row center for an exploration of The Voice...The Man...The Legend. Luciano Pavarotti gave his life to the music and a voice to the world. This cinematic event features history-making performances and intimate interviews, including never-before-seen footage and cutting-edge Dolby Atmos technology.</td>\n",
       "      <td>PG-13</td>\n",
       "      <td>0.818700</td>\n",
       "    </tr>\n",
       "  </tbody>\n",
       "</table>\n",
       "</div>"
      ],
      "text/plain": [
       "             movie_title  \\\n",
       "165            Yesterday   \n",
       "32   Dolemite Is My Name   \n",
       "81          Missing Link   \n",
       "86             Pavarotti   \n",
       "\n",
       "                                                                                                                                                                                                                                                                                                                                                                                                                                                                                                                                                                                                                                                                                                                                                                                                                                                                                                                                                                                              movie_info  \\\n",
       "165                                                                                                                                                                                                                                                                                                                                                                                                                                                                                                                    Jack Malik (Himesh Patel, BBC's Eastenders) is a struggling singer-songwriter in a tiny English seaside town whose dreams of fame are rapidly fading, despite the fierce devotion and support of his childhood best friend, Ellie (Lily James, Mamma Mia! Here We Go Again). Then, after a freak bus accident during a mysterious global blackout, Jack wakes up to discover that The Beatles have never existed... and he finds himself with a very complicated problem, indeed.   \n",
       "32   Stung by a string of showbiz failures, floundering comedian Rudy Ray Moore (Academy Award nominee Eddie Murphy) has an epiphany that turns him into a word-of-mouth sensation: step onstage as someone else. Borrowing from the street mythology of 1970s Los Angeles, Moore assumes the persona of Dolemite, a pimp with a cane and an arsenal of obscene fables. However, his ambitions exceed selling bootleg records deemed too racy for mainstream radio stations to play. Moore convinces a social justice-minded dramatist (Keegan-Michael Key) to write his alter ego a film, incorporating kung fu, car chases, and Lady Reed (Da'Vine Joy Randolph), an ex-backup singer who becomes his unexpected comedic foil. Despite clashing with his pretentious director, D'Urville Martin (Wesley Snipes), and countless production hurdles at their studio in the dilapidated Dunbar Hotel, Moore's Dolemite becomes a runaway box office smash and a defining movie of the Blaxploitation era.   \n",
       "81                                                                                                                                                                  This April, meet Mr. Link (Galifianakis): 8 feet tall, 630 lbs, and covered in fur, but don't let his appearance fool you... he is funny, sweet, and adorably literal, making him the world's most lovable legend at the heart of Missing Link, the globe-trotting family adventure from LAIKA. Tired of living a solitary life in the Pacific Northwest, Mr. Link recruits fearless explorer Sir Lionel Frost (Jackman) to guide him on a journey to find his long-lost relatives in the fabled valley of Shangri-La. Along with adventurer Adelina Fortnight (Saldana), our fearless trio of explorers encounter more than their fair share of peril as they travel to the far reaches of the world to help their new friend. Through it all, the three learn that sometimes you can find a family in the places you least expect.   \n",
       "86                                                                                                                                                                                                                                                                                                                                                                                                              From the filmmaking team behind the highly-acclaimed documentary The Beatles: Eight Days A Week - The Touring Years, PAVAROTTI is a riveting film that lifts the curtain on the icon who brought opera to the people. Academy Award (R) winner Ron Howard puts audiences front row center for an exploration of The Voice...The Man...The Legend. Luciano Pavarotti gave his life to the music and a voice to the world. This cinematic event features history-making performances and intimate interviews, including never-before-seen footage and cutting-edge Dolby Atmos technology.   \n",
       "\n",
       "    movie_rating  similarity_score  \n",
       "165        PG-13          1.000000  \n",
       "32             R          0.825942  \n",
       "81            PG          0.819001  \n",
       "86         PG-13          0.818700  "
      ]
     },
     "execution_count": 22,
     "metadata": {},
     "output_type": "execute_result"
    }
   ],
   "source": [
    "# find movies similar to Yesterday\n",
    "get_similar_movies(165)"
   ]
  },
  {
   "cell_type": "code",
   "execution_count": null,
   "id": "e92a5265-2122-42d3-9d9e-c9b5ceeae115",
   "metadata": {},
   "outputs": [],
   "source": []
  }
 ],
 "metadata": {
  "kernelspec": {
   "display_name": "Python 3 (ipykernel)",
   "language": "python",
   "name": "python3"
  },
  "language_info": {
   "codemirror_mode": {
    "name": "ipython",
    "version": 3
   },
   "file_extension": ".py",
   "mimetype": "text/x-python",
   "name": "python",
   "nbconvert_exporter": "python",
   "pygments_lexer": "ipython3",
   "version": "3.13.2"
  }
 },
 "nbformat": 4,
 "nbformat_minor": 5
}
